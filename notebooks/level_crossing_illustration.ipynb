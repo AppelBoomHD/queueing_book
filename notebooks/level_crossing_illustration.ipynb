{
 "cells": [
  {
   "cell_type": "markdown",
   "metadata": {},
   "source": [
    "# Illustration of the Definitions used in Level-Crossing Analysis of a Queueing Process\n",
    "\n",
    "Nicky van Foreest\n",
    "\n",
    "We use simulation to analyze the relation \n",
    "\\begin{equation}\n",
    "  \\lambda(n) p(n) = \\mu(n+1)p(n+1)\n",
    "\\end{equation}\n",
    "derived by level crossing arguments applied to queueing systems in which jobs arrive and depart in single quantities (i.e., no batch arrivals). To define these quantities we need some extra notation. Below we also compute the variables with simulation. \n",
    "\n",
    "We start with a given set of arrival epochs $\\{A_k\\}$ and departure epochs $\\{D_k\\}$. \n",
    "Let $A(t)$ be the total number of jobs arrived up to time, i.e., $A(t)=\\max\\{k : A_k \\leq t\\}$, and $D(t)$ be the number departed up, i.e., $D(t)=\\max\\{k: D_k \\leq t\\}$. Then $L(t) = A(t)-D(t)$ is the number of jobs in the system, assuming the system starts out empty. Define\n",
    "\\begin{align}\n",
    "  A(n,t) &= \\sum_{k=1}^\\infty \\mathbf{1}\\{A_k\\leq t, L(A_k-)=n\\}, \\\\\n",
    "  D(n,t) &= \\sum_{k=1}^\\infty \\mathbf{1}\\{D_k\\leq t, L(D_k)=n\\}, \n",
    "\\end{align}\n",
    "respectively, as the number of arrivals up to time $t$ that see $n$ jobs in the system upon arrival, and as the number of departures that leave $n$ behind. Next,  let\n",
    "\\begin{equation}\n",
    "  Y(n,t)=\\int_0^t \\mathbf{1}\\{L(s)=n\\}d\\,s,\n",
    "\\end{equation}\n",
    "denote the amount of time the system contains $n$ jobs. Finally, define\n",
    "\\begin{align}\n",
    "  p(n) &= \\lim_{t \\to \\in} \\frac{Y(n,t)}{t}&\n",
    "  \\lambda(n) &= \\lim_{t \\to \\in} \\frac{A(n,t)}{Y(n,t)}&\n",
    "  \\mu(n) &= \\lim_{t \\to \\in} \\frac{D(n,t)}{Y(n+1,t)}.\n",
    "\\end{align}"
   ]
  },
  {
   "cell_type": "markdown",
   "metadata": {},
   "source": [
    "## Simulation Code and Example\n",
    "\n",
    "Standard imports to facility the computations and the plotting."
   ]
  },
  {
   "cell_type": "code",
   "execution_count": 1,
   "metadata": {},
   "outputs": [],
   "source": [
    "import numpy as np\n",
    "import matplotlib.pyplot as plt\n",
    "from matplotlib import rc\n",
    "plt.style.use('ggplot')"
   ]
  },
  {
   "cell_type": "markdown",
   "metadata": {},
   "source": [
    "We assume that the arrival times $\\{A_k\\}$ and departure $\\{D_k\\}$ of jobs are given. "
   ]
  },
  {
   "cell_type": "code",
   "execution_count": 2,
   "metadata": {},
   "outputs": [],
   "source": [
    "Ak = np.array([2, 3, 8, 17, 18])\n",
    "Dk = np.array([4, 9, 12, 23])"
   ]
  },
  {
   "cell_type": "markdown",
   "metadata": {},
   "source": [
    "Based on $\\{A_k\\}$ and $\\{D_k\\}$ we compute the sorted set of  epochs $T$ at which either an arrival or a departure occurs. We set $T_0=0$, and $T_1, T_2, \\ldots$ correspond to arrival and departure epochs."
   ]
  },
  {
   "cell_type": "code",
   "execution_count": 3,
   "metadata": {},
   "outputs": [
    {
     "name": "stdout",
     "output_type": "stream",
     "text": [
      "[ 0.  2.  3.  4.  8.  9. 12. 17. 18. 23.]\n"
     ]
    }
   ],
   "source": [
    "def epochs(Ak, Dk):\n",
    "    T = np.zeros(1+len(Ak)+len(Dk))\n",
    "    T[1:] = np.sort(np.concatenate((Ak, Dk)))\n",
    "    return T\n",
    "\n",
    "T = epochs(Ak, Dk)\n",
    "print(T)\n"
   ]
  },
  {
   "cell_type": "markdown",
   "metadata": {},
   "source": [
    "The \\emph{durations} are the length of the intervals $[T_k, T_{k+1})$ for $k=0, 1, \\ldots$. "
   ]
  },
  {
   "cell_type": "code",
   "execution_count": 4,
   "metadata": {},
   "outputs": [
    {
     "name": "stdout",
     "output_type": "stream",
     "text": [
      "[2. 1. 1. 4. 1. 3. 5. 1. 5.]\n"
     ]
    }
   ],
   "source": [
    "def durations(T):\n",
    "    return np.diff(T)\n",
    "\n",
    "dur = durations(T)\n",
    "print(dur)\n"
   ]
  },
  {
   "cell_type": "markdown",
   "metadata": {},
   "source": [
    "Next we \\emph{mark the indices} of the epochs $T$ that correspond to arrivals."
   ]
  },
  {
   "cell_type": "code",
   "execution_count": 5,
   "metadata": {},
   "outputs": [
    {
     "name": "stdout",
     "output_type": "stream",
     "text": [
      "[0 1 1 0 1 0 0 1 1 0]\n"
     ]
    }
   ],
   "source": [
    "def mark_arrival_epochs(Ak, T):\n",
    "    return 1*np.array(np.in1d(T, Ak))\n",
    "\n",
    "A = mark_arrival_epochs(Ak, T)\n",
    "print(A)"
   ]
  },
  {
   "cell_type": "markdown",
   "metadata": {},
   "source": [
    "Lets check. Select the indices of $T$ where $A=1$. "
   ]
  },
  {
   "cell_type": "code",
   "execution_count": 6,
   "metadata": {},
   "outputs": [],
   "source": [
    "arrival_epochs = T[np.where(A)]"
   ]
  },
  {
   "cell_type": "markdown",
   "metadata": {},
   "source": [
    "Here we \\emph{mark the indices} of the epochs $T$ that correspond to departures."
   ]
  },
  {
   "cell_type": "code",
   "execution_count": 7,
   "metadata": {},
   "outputs": [
    {
     "name": "stdout",
     "output_type": "stream",
     "text": [
      "[0 0 0 1 0 1 1 0 0 1]\n"
     ]
    }
   ],
   "source": [
    "def mark_departure_epochs(Dk, T):\n",
    "    return 1*np.array(np.in1d(T, Dk))\n",
    "\n",
    "D = mark_arrival_epochs(Dk, T)\n",
    "print(D)\n"
   ]
  },
  {
   "cell_type": "markdown",
   "metadata": {},
   "source": [
    "Next, we compute the queue length."
   ]
  },
  {
   "cell_type": "code",
   "execution_count": 8,
   "metadata": {},
   "outputs": [
    {
     "data": {
      "text/plain": [
       "Text(0, 0.5, 'L')"
      ]
     },
     "execution_count": 8,
     "metadata": {},
     "output_type": "execute_result"
    },
    {
     "data": {
      "text/plain": [
       "<Figure size 432x288 with 0 Axes>"
      ]
     },
     "metadata": {},
     "output_type": "display_data"
    },
    {
     "data": {
      "image/png": "[encoded data removed]",
      "text/plain": [
       "<Figure size 360x216 with 1 Axes>"
      ]
     },
     "metadata": {},
     "output_type": "display_data"
    }
   ],
   "source": [
    "At = A.cumsum()\n",
    "Dt = D.cumsum()\n",
    "\n",
    "def queue_length(At, Dt):\n",
    "    return At-Dt\n",
    "\n",
    "Lt = queue_length(At, Dt)\n",
    "\n",
    "plt.clf()\n",
    "plt.figure(figsize=(5, 3))\n",
    "# Use TeX fonts\n",
    "# rc(\"text\", usetex=True)\n",
    "\n",
    "plt.plot(T, At, linestyle='--', drawstyle='steps-post', label=\"At\")\n",
    "plt.plot(T, Dt, linestyle=':', drawstyle='steps-post', label=\"Dt\")\n",
    "plt.plot(T, Lt, drawstyle='steps-post', label=\"Lt\")\n",
    "plt.legend(bbox_to_anchor=(0.2, 1))\n",
    "plt.title(\"No of jobs in the system\")\n",
    "plt.xlabel(\"time\")\n",
    "plt.ylabel(\"L\")\n",
    "# plt.savefig(\"queue.pdf\", bbox_inches=\"tight\")\n"
   ]
  },
  {
   "cell_type": "markdown",
   "metadata": {},
   "source": [
    "Now we compute $Y(n,t)$. This is a bit difficult. We first mark the points in time $Z$ where $L(T_k)=n$, in other words, if $L(T_k)=n$, (so that $Z(T_k)=1$), then $L(s)=n$ for $s\\in [T_k, T_{k+1})$. To get $Y(n,t)$, we set $Y(n,T_{k+1}) = Y(n,T_k) + Z(T_k)\\cdot(T_{k+1}-T_k)$. Below we only use $Y = Z(T_k)\\cdot(T_{k+1}-T_k)$ as a dummy variable to prevent doing two steps at the same time. "
   ]
  },
  {
   "cell_type": "code",
   "execution_count": 9,
   "metadata": {},
   "outputs": [
    {
     "data": {
      "text/plain": [
       "Text(0, 0.5, 'Y')"
      ]
     },
     "execution_count": 9,
     "metadata": {},
     "output_type": "execute_result"
    },
    {
     "data": {
      "text/plain": [
       "<Figure size 432x288 with 0 Axes>"
      ]
     },
     "metadata": {},
     "output_type": "display_data"
    },
    {
     "data": {
      "image/png": "[encoded data removed]",
      "text/plain": [
       "<Figure size 360x216 with 1 Axes>"
      ]
     },
     "metadata": {},
     "output_type": "display_data"
    }
   ],
   "source": [
    "def Ynt(L, durations, n):\n",
    "    Y = np.zeros(len(L))\n",
    "    Z = np.zeros_like(L)\n",
    "    Z[np.where(L == n)] = 1\n",
    "    Y[1:] = Z[:-1]*durations\n",
    "    return Y.cumsum()\n",
    "\n",
    "Y0t = Ynt(Lt, dur, 0)\n",
    "Y1t = Ynt(Lt, dur, 1)\n",
    "Y2t = Ynt(Lt, dur, 2)\n",
    "\n",
    "plt.clf()\n",
    "plt.figure(figsize=(5, 3))\n",
    "plt.plot(T, Lt, drawstyle='steps-post', label=\"L(t)\")\n",
    "plt.plot(T, Y0t, label=\"n=0\")\n",
    "plt.plot(T, Y1t, label=\"n=1\")\n",
    "plt.plot(T, Y2t, label=\"n=2\")\n",
    "plt.legend(bbox_to_anchor=(0.2, 1))\n",
    "plt.title(\"Total time in state\")\n",
    "plt.xlabel(\"time\")\n",
    "plt.ylabel(\"Y\")\n",
    "# plt.savefig(\"Ynt.pdf\", bbox_inches=\"tight\")\n"
   ]
  },
  {
   "cell_type": "markdown",
   "metadata": {},
   "source": [
    "Finally, we compute $A(n,t)$ and $D(n,t)$. Note that our $Lt$ is right-continuous. Hence $L(A_k-)=L(A_k)-1$. We first select all arrival epochs such that $L(A_k)=n+1$ (hence $L(A_k-)=n$. Recall that $A$ markes the epochs of $T$ at which arrivals occured, and likewise $D$ markes the departure epochs. "
   ]
  },
  {
   "cell_type": "code",
   "execution_count": 10,
   "metadata": {},
   "outputs": [
    {
     "data": {
      "text/plain": [
       "Text(0, 0.5, 'A')"
      ]
     },
     "execution_count": 10,
     "metadata": {},
     "output_type": "execute_result"
    },
    {
     "data": {
      "text/plain": [
       "<Figure size 432x288 with 0 Axes>"
      ]
     },
     "metadata": {},
     "output_type": "display_data"
    },
    {
     "data": {
      "image/png": "[encoded data removed]",
      "text/plain": [
       "<Figure size 360x216 with 1 Axes>"
      ]
     },
     "metadata": {},
     "output_type": "display_data"
    }
   ],
   "source": [
    "def Ant(L, arrival_epochs, n):\n",
    "    a = np.zeros_like(L)\n",
    "    a[np.where(arrival_epochs*(L == n+1))] = 1\n",
    "    return a.cumsum()\n",
    "\n",
    "def Dnt(L, departure_epochs, n):\n",
    "    d = np.zeros_like(L)\n",
    "    d[np.where(departure_epochs*(L == n))] = 1\n",
    "    return d.cumsum()\n",
    "\n",
    "A0t = Ant(Lt, A, 0)\n",
    "A1t = Ant(Lt, A, 1)\n",
    "A2t = Ant(Lt, A, 2)\n",
    "\n",
    "plt.clf()\n",
    "plt.figure(figsize=(5, 3))\n",
    "plt.plot(T, Lt, drawstyle='steps-post', label=\"$L(t)$\")\n",
    "plt.plot(T, A0t, drawstyle='steps-post', label=\"$A(0,t)$\")\n",
    "plt.plot(T, A1t, drawstyle='steps-post', label=\"$A(1,t)$\")\n",
    "plt.legend(bbox_to_anchor=(0.2, 1))\n",
    "plt.title(\"$A(n,t)$\")\n",
    "plt.xlabel(\"time\")\n",
    "plt.ylabel(\"A\")"
   ]
  },
  {
   "cell_type": "markdown",
   "metadata": {},
   "source": [
    "## $D/D/1$ queue\n",
    "\n",
    "Let us see what we get for the $D/D/1$ queue. First we need to compute $\\{A_k\\}$ and $\\{D_k\\}$  from a set of interarrival times $\\{X_k\\}$ and service times $\\{S_k\\}$. For this we use the recursion\n",
    "\\begin{align}\n",
    "A_k &= A_{k-1}+X_k, \\\\\n",
    "  D_k &= \\max\\{A_, D_{k-1}\\} + S_k.\n",
    "\\end{align}"
   ]
  },
  {
   "cell_type": "code",
   "execution_count": 11,
   "metadata": {},
   "outputs": [],
   "source": [
    "def recursion(Ak, Sk):\n",
    "    Dk = np.zeros_like(Ak)\n",
    "    D = 0\n",
    "    for k, A in enumerate(Ak):\n",
    "        D = max(A, D) + Sk[k]\n",
    "        Dk[k]=D\n",
    "    return Dk"
   ]
  },
  {
   "cell_type": "code",
   "execution_count": 12,
   "metadata": {},
   "outputs": [],
   "source": [
    "def compute_rates(Ak, Dk, n):\n",
    "    epochs_all = epochs(Ak, Dk)\n",
    "    durations_all = durations(epochs_all)\n",
    "    arrival_epochs = mark_arrival_epochs(Ak, epochs_all)\n",
    "    At = arrival_epochs.cumsum()\n",
    "    departure_epochs = mark_departure_epochs(Dk, epochs_all)\n",
    "    Dt = departure_epochs.cumsum()\n",
    "    Lt = queue_length(At, Dt)\n",
    "\n",
    "    Yt = np.zeros(n) \n",
    "    for k in range(n): \n",
    "        Yt[k] = Ynt(Lt, durations_all, k)[-1]\n",
    "\n",
    "    An = np.zeros(n)\n",
    "    for k in range(n):\n",
    "        An[k] = Ant(Lt, arrival_epochs, k)[-1]\n",
    "\n",
    "    Dn = np.zeros(n)\n",
    "    for k in range(n):\n",
    "        Dn[k] = Dnt(Lt, departure_epochs, k)[-1]\n",
    "\n",
    "    #print(Dn)\n",
    "\n",
    "    p = np.zeros(n)\n",
    "    for k in range(n):\n",
    "        p[k] = Yt[k]/epochs_all[-1]\n",
    "\n",
    "    print(\"p: {}\\n\".format(p))\n",
    "\n",
    "    labda_ = np.zeros(n)\n",
    "    for k in range(n):\n",
    "        labda_[k] = An[k]/Yt[k]\n",
    "\n",
    "    print(\"labda: {}\\n\".format(labda_))\n",
    "\n",
    "    mu_ = np.zeros(n)\n",
    "    for k in range(n-1):\n",
    "        mu_[k+1] = Dn[k]/Yt[k+1]\n",
    "\n",
    "    print(\"mu: {}\\n\".format(mu_))\n",
    "\n",
    "    for k in range(n-1):\n",
    "        print(\"level {}, up crossing rate: {}\\n\".format(k, p[k]*labda_[k]))\n",
    "        print(\"level {}, down crossing rate: {}\\n\".format(k, p[k+1]*mu_[k+1]))"
   ]
  },
  {
   "cell_type": "code",
   "execution_count": 13,
   "metadata": {},
   "outputs": [
    {
     "name": "stdout",
     "output_type": "stream",
     "text": [
      "p: [0.50248756 0.49751244]\n",
      "\n",
      "labda: [1.98019802 0.        ]\n",
      "\n",
      "mu: [0. 2.]\n",
      "\n",
      "level 0, up crossing rate: 0.9950248756218907\n",
      "\n",
      "level 0, down crossing rate: 0.9950248756218906\n",
      "\n"
     ]
    }
   ],
   "source": [
    "def dd1():\n",
    "    num = 100\n",
    "    Xk = np.ones(num)\n",
    "    Sk = 0.5*np.ones(num)\n",
    "    Ak = Xk.cumsum()\n",
    "    Dk = recursion(Ak, Sk)\n",
    "    compute_rates(Ak, Dk, 2)\n",
    "\n",
    "dd1()\n"
   ]
  },
  {
   "cell_type": "markdown",
   "metadata": {},
   "source": [
    "This all seems in accordance with expectation."
   ]
  },
  {
   "cell_type": "markdown",
   "metadata": {},
   "source": [
    "## Analysis of $M/M/1$ Queue"
   ]
  },
  {
   "cell_type": "code",
   "execution_count": 14,
   "metadata": {},
   "outputs": [
    {
     "name": "stdout",
     "output_type": "stream",
     "text": [
      "p(0), theoretical: 0.19999999999999996\n",
      "\n",
      "p: [0.19944405 0.15818876 0.12695574 0.10107121 0.07974076]\n",
      "\n",
      "labda: [0.8050329  0.80499935 0.79866185 0.80386396 0.78487398]\n",
      "\n",
      "mu: [0.         1.01498372 1.00304133 1.00320061 1.01889557]\n",
      "\n",
      "level 0, up crossing rate: 0.16055901884395618\n",
      "\n",
      "level 0, down crossing rate: 0.16055901884395615\n",
      "\n",
      "level 1, up crossing rate: 0.12734185053856972\n",
      "\n",
      "level 1, down crossing rate: 0.12734185053856972\n",
      "\n",
      "level 2, up crossing rate: 0.10139470334959799\n",
      "\n",
      "level 2, down crossing rate: 0.10139470334959798\n",
      "\n",
      "level 3, up crossing rate: 0.08124750670874932\n",
      "\n",
      "level 3, down crossing rate: 0.08124750670874933\n",
      "\n"
     ]
    }
   ],
   "source": [
    "def mm1():\n",
    "    labda, mu = 0.8, 1\n",
    "    num = 100000\n",
    "    rho = labda/mu\n",
    "    print(\"p(0), theoretical: {}\\n\".format(1-rho))\n",
    "    \n",
    "    Xk = np.random.exponential(1/labda, num)\n",
    "    Sk = np.random.exponential(1/mu, num)\n",
    "    Ak = Xk.cumsum()\n",
    "    Dk = recursion(Ak, Sk)\n",
    "    compute_rates(Ak, Dk, 5)\n",
    "\n",
    "mm1()\n"
   ]
  },
  {
   "cell_type": "markdown",
   "metadata": {},
   "source": [
    "We see that $\\lambda(n)\\approx \\lambda$, and $\\mu(n)\\approx 1$, which is correct. Also $p(0)\\approx 1-\\rho$. The up- and down-crossing rates of each level agree. "
   ]
  },
  {
   "cell_type": "markdown",
   "metadata": {},
   "source": [
    "## Analysis of $M/D/1$ Queue"
   ]
  },
  {
   "cell_type": "code",
   "execution_count": 15,
   "metadata": {},
   "outputs": [
    {
     "name": "stdout",
     "output_type": "stream",
     "text": [
      "p: [0.20034138 0.24494065 0.18883239 0.12691321 0.08208261 0.0535521\n",
      " 0.0353043  0.02317131 0.01528716 0.01009372 0.00664773 0.00435164\n",
      " 0.00288655 0.00192939 0.00129935]\n",
      "\n",
      "labda: [0.79882689 0.79795886 0.79996613 0.79712436 0.79710029 0.80894504\n",
      " 0.80280032 0.80817201 0.80404405 0.80689007 0.80101384 0.80560528\n",
      " 0.81889824 0.81400131 0.79883029]\n",
      "\n",
      "mu: [0.         0.65337493 1.03505847 1.19025838 1.2324854  1.22176474\n",
      " 1.22706612 1.2231634  1.22497583 1.2177425  1.22515783 1.22366002\n",
      " 1.21449591 1.22514657 1.20870778]\n",
      "\n",
      "level 0, up crossing rate: 0.1600380792325842\n",
      "\n",
      "level 0, down crossing rate: 0.1600380792325842\n",
      "\n",
      "level 1, up crossing rate: 0.19545256067729075\n",
      "\n",
      "level 1, down crossing rate: 0.19545256067729075\n",
      "\n",
      "level 2, up crossing rate: 0.1510595122115359\n",
      "\n",
      "level 2, down crossing rate: 0.15105951221153593\n",
      "\n",
      "level 3, up crossing rate: 0.10116561207693615\n",
      "\n",
      "level 3, down crossing rate: 0.10116561207693615\n",
      "\n",
      "level 4, up crossing rate: 0.06542806854846547\n",
      "\n",
      "level 4, down crossing rate: 0.06542806854846547\n",
      "\n",
      "level 5, up crossing rate: 0.043320706252072454\n",
      "\n",
      "level 5, down crossing rate: 0.043320706252072454\n",
      "\n",
      "level 6, up crossing rate: 0.028342300581315837\n",
      "\n",
      "level 6, down crossing rate: 0.028342300581315837\n",
      "\n",
      "level 7, up crossing rate: 0.018726405637594288\n",
      "\n",
      "level 7, down crossing rate: 0.018726405637594284\n",
      "\n",
      "level 8, up crossing rate: 0.012291552696876836\n",
      "\n",
      "level 8, down crossing rate: 0.012291552696876835\n",
      "\n",
      "level 9, up crossing rate: 0.008144523077073097\n",
      "\n",
      "level 9, down crossing rate: 0.008144523077073097\n",
      "\n",
      "level 10, up crossing rate: 0.00532492677174568\n",
      "\n",
      "level 10, down crossing rate: 0.00532492677174568\n",
      "\n",
      "level 11, up crossing rate: 0.0035057034040145763\n",
      "\n",
      "level 11, down crossing rate: 0.0035057034040145763\n",
      "\n",
      "level 12, up crossing rate: 0.0023637908901156675\n",
      "\n",
      "level 12, down crossing rate: 0.0023637908901156675\n",
      "\n",
      "level 13, up crossing rate: 0.0015705295359225884\n",
      "\n",
      "level 13, down crossing rate: 0.0015705295359225884\n",
      "\n"
     ]
    }
   ],
   "source": [
    "def md1():\n",
    "    labda, mu = 0.8, 1\n",
    "    num = 1000000\n",
    "    \n",
    "    Xk = np.random.exponential(1/labda, num)\n",
    "    Sk = np.ones(num)\n",
    "    Ak = Xk.cumsum()\n",
    "    Dk = recursion(Ak, Sk)\n",
    "    compute_rates(Ak, Dk, 15)\n",
    "\n",
    "md1()\n"
   ]
  },
  {
   "cell_type": "markdown",
   "metadata": {},
   "source": [
    "We see that $\\lambda(n)\\approx\\lambda$, which should be the case given that the arrival process is Poisson. The service rate $\\mu(n)$, however, is not constant. This is also not expected, otherwise the $M/D/1$ queue would have been an $M/M/1$ queue. Interestingly, $\\mu(n)\\approx 1.22$, for $n>3$. Observe that $\\mu(n)>1$, which is interesting. The reason must be that job service times are 1, but the average time the queueing process stays in some state $n$ is shorter than $1$, due to arrivals."
   ]
  }
 ],
 "metadata": {
  "anaconda-cloud": {},
  "kernelspec": {
   "display_name": "Python 3",
   "language": "python",
   "name": "python3"
  },
  "language_info": {
   "codemirror_mode": {
    "name": "ipython",
    "version": 3
   },
   "file_extension": ".py",
   "mimetype": "text/x-python",
   "name": "python",
   "nbconvert_exporter": "python",
   "pygments_lexer": "ipython3",
   "version": "3.6.9"
  }
 },
 "nbformat": 4,
 "nbformat_minor": 1
}
